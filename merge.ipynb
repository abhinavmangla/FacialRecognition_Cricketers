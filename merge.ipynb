{
 "metadata": {
  "language_info": {
   "codemirror_mode": {
    "name": "ipython",
    "version": 3
   },
   "file_extension": ".py",
   "mimetype": "text/x-python",
   "name": "python",
   "nbconvert_exporter": "python",
   "pygments_lexer": "ipython3",
   "version": "3.8.5"
  },
  "orig_nbformat": 2,
  "kernelspec": {
   "name": "python385jvsc74a57bd031f2aee4e71d21fbe5cf8b01ff0e069b9275f58929596ceb00d14d90e3e16cd6",
   "display_name": "Python 3.8.5 64-bit"
  },
  "metadata": {
   "interpreter": {
    "hash": "31f2aee4e71d21fbe5cf8b01ff0e069b9275f58929596ceb00d14d90e3e16cd6"
   }
  }
 },
 "nbformat": 4,
 "nbformat_minor": 2,
 "cells": [
  {
   "cell_type": "code",
   "execution_count": 1,
   "metadata": {},
   "outputs": [],
   "source": [
    "import pickle\n",
    "import numpy as np"
   ]
  },
  {
   "cell_type": "code",
   "execution_count": 2,
   "metadata": {},
   "outputs": [],
   "source": [
    "file = open('enc_res.pickle', 'rb')\n",
    "data = pickle.load(file)"
   ]
  },
  {
   "cell_type": "code",
   "execution_count": 19,
   "metadata": {},
   "outputs": [
    {
     "output_type": "execute_result",
     "data": {
      "text/plain": [
       "array([-0.16920859,  0.19659324,  0.14471123, -0.02397426, -0.00096545,\n",
       "        0.00157572, -0.0303721 , -0.05456281,  0.16743866, -0.05397876,\n",
       "        0.13298827, -0.00667191, -0.16090494, -0.05708696,  0.01850833,\n",
       "        0.09794182, -0.19382358, -0.11003964, -0.05395405, -0.03641068,\n",
       "        0.08834833,  0.09176381,  0.00687069, -0.01834491, -0.14982128,\n",
       "       -0.39792004, -0.05433588, -0.13395123,  0.05046479, -0.06605634,\n",
       "       -0.03693603, -0.06994767, -0.21448427, -0.00443303, -0.04720429,\n",
       "        0.14139454,  0.02583769,  0.03178863,  0.06875995,  0.05068476,\n",
       "       -0.12494366,  0.01252824, -0.0225403 ,  0.3207204 ,  0.17869788,\n",
       "        0.09518756, -0.01193566,  0.03270922,  0.11054255, -0.2308861 ,\n",
       "        0.1553093 ,  0.08652753,  0.11800242,  0.05672538,  0.12866281,\n",
       "       -0.14033817, -0.01028921, -0.02101141, -0.22297943,  0.08653083,\n",
       "        0.08685916,  0.01256911, -0.08583196, -0.01718228,  0.21131021,\n",
       "        0.12016869, -0.10304827, -0.10214019,  0.11366402, -0.13960101,\n",
       "        0.00486113, -0.03591891, -0.09841305, -0.10787204, -0.25290412,\n",
       "        0.07414176,  0.3983815 ,  0.13293597, -0.21719183,  0.03411699,\n",
       "       -0.10024043,  0.00814912,  0.08113308,  0.04390226, -0.0546829 ,\n",
       "        0.13874233, -0.09962543,  0.09547731,  0.09125813, -0.0177082 ,\n",
       "       -0.04717373,  0.23374699, -0.02860944,  0.02371518,  0.00101208,\n",
       "       -0.0403329 , -0.08123754,  0.0016586 , -0.11076064, -0.05311175,\n",
       "        0.09297008, -0.03876577, -0.0306265 ,  0.08392726, -0.19610037,\n",
       "        0.19574481,  0.06099251,  0.0462427 ,  0.03385337,  0.07796211,\n",
       "       -0.17751732, -0.06651627,  0.15509747, -0.23615016,  0.1898099 ,\n",
       "        0.17418033, -0.0654645 ,  0.13835441,  0.03063381,  0.05913307,\n",
       "        0.0479444 ,  0.05662221, -0.15282854, -0.08002265,  0.02300424,\n",
       "       -0.01436123,  0.01911952,  0.0973568 ])"
      ]
     },
     "metadata": {},
     "execution_count": 19
    }
   ],
   "source": [
    "data['rohit_sharma'][7][0]"
   ]
  },
  {
   "cell_type": "code",
   "execution_count": 21,
   "metadata": {},
   "outputs": [
    {
     "output_type": "stream",
     "name": "stdout",
     "text": [
      "virat_kohli\nrohit_sharma\njasprit_bumrah\njasprit_bumrah\njasprit_bumrah\nkedar_jadhav\nkedar_jadhav\nyuzvendra_chahal\nyuzvendra_chahal\nyuzvendra_chahal\nbhuvneshwar_kumar\nvijay_shankar\nvijay_shankar\nvijay_shankar\nvijay_shankar\nravindra_jadeja\nhardik_pandya\nhardik_pandya\nkuldeep_yadav\nkuldeep_yadav\nkuldeep_yadav\nkuldeep_yadav\nkuldeep_yadav\nkuldeep_yadav\nkuldeep_yadav\nkuldeep_yadav\nmohammed_shami\nmohammed_shami\nmohammed_shami\nmohammed_shami\nmohammed_shami\nmohammed_shami\nshikhar_dhawan\nshikhar_dhawan\ndinesh_karthik\ndinesh_karthik\ndinesh_karthik\ndinesh_karthik\ndinesh_karthik\nms_dhoni\nms_dhoni\n"
     ]
    }
   ],
   "source": [
    "merged_enc = {}\n",
    "for key in data.keys():\n",
    "    temp = np.zeros(128)\n",
    "    count = 0\n",
    "    for i in range(len(data[key])):\n",
    "        try:\n",
    "            temp = temp + data[key][i][0]\n",
    "            count = count + 1\n",
    "        except:\n",
    "            print(key)\n",
    "            \n",
    "    temp = temp/count\n",
    "    merged_enc[key] = temp"
   ]
  },
  {
   "cell_type": "code",
   "execution_count": 26,
   "metadata": {},
   "outputs": [],
   "source": [
    "file = open('enc_res.pickle', 'wb')\n",
    "pickle.dump(merged_enc, file)\n",
    "file.close()"
   ]
  },
  {
   "cell_type": "code",
   "execution_count": null,
   "metadata": {},
   "outputs": [],
   "source": []
  }
 ]
}